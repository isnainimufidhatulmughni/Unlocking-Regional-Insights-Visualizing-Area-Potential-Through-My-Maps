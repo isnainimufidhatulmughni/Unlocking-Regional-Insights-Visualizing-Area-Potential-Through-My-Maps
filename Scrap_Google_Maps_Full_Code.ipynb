{
  "cells": [
    {
      "cell_type": "code",
      "source": [
        "pip install selenium"
      ],
      "metadata": {
        "colab": {
          "base_uri": "https://localhost:8080/"
        },
        "id": "CFehktKTXqYP",
        "outputId": "0aae615e-dead-4ffb-c0a5-e9ac4980e6ad"
      },
      "execution_count": null,
      "outputs": [
        {
          "output_type": "stream",
          "name": "stdout",
          "text": [
            "Collecting selenium\n",
            "  Downloading selenium-4.27.1-py3-none-any.whl.metadata (7.1 kB)\n",
            "Requirement already satisfied: urllib3<3,>=1.26 in /usr/local/lib/python3.10/dist-packages (from urllib3[socks]<3,>=1.26->selenium) (2.3.0)\n",
            "Collecting trio~=0.17 (from selenium)\n",
            "  Downloading trio-0.28.0-py3-none-any.whl.metadata (8.5 kB)\n",
            "Collecting trio-websocket~=0.9 (from selenium)\n",
            "  Downloading trio_websocket-0.11.1-py3-none-any.whl.metadata (4.7 kB)\n",
            "Requirement already satisfied: certifi>=2021.10.8 in /usr/local/lib/python3.10/dist-packages (from selenium) (2024.12.14)\n",
            "Requirement already satisfied: typing_extensions~=4.9 in /usr/local/lib/python3.10/dist-packages (from selenium) (4.12.2)\n",
            "Requirement already satisfied: websocket-client~=1.8 in /usr/local/lib/python3.10/dist-packages (from selenium) (1.8.0)\n",
            "Requirement already satisfied: attrs>=23.2.0 in /usr/local/lib/python3.10/dist-packages (from trio~=0.17->selenium) (24.3.0)\n",
            "Collecting sortedcontainers (from trio~=0.17->selenium)\n",
            "  Downloading sortedcontainers-2.4.0-py2.py3-none-any.whl.metadata (10 kB)\n",
            "Requirement already satisfied: idna in /usr/local/lib/python3.10/dist-packages (from trio~=0.17->selenium) (3.10)\n",
            "Collecting outcome (from trio~=0.17->selenium)\n",
            "  Downloading outcome-1.3.0.post0-py2.py3-none-any.whl.metadata (2.6 kB)\n",
            "Requirement already satisfied: sniffio>=1.3.0 in /usr/local/lib/python3.10/dist-packages (from trio~=0.17->selenium) (1.3.1)\n",
            "Requirement already satisfied: exceptiongroup in /usr/local/lib/python3.10/dist-packages (from trio~=0.17->selenium) (1.2.2)\n",
            "Collecting wsproto>=0.14 (from trio-websocket~=0.9->selenium)\n",
            "  Downloading wsproto-1.2.0-py3-none-any.whl.metadata (5.6 kB)\n",
            "Requirement already satisfied: pysocks!=1.5.7,<2.0,>=1.5.6 in /usr/local/lib/python3.10/dist-packages (from urllib3[socks]<3,>=1.26->selenium) (1.7.1)\n",
            "Requirement already satisfied: h11<1,>=0.9.0 in /usr/local/lib/python3.10/dist-packages (from wsproto>=0.14->trio-websocket~=0.9->selenium) (0.14.0)\n",
            "Downloading selenium-4.27.1-py3-none-any.whl (9.7 MB)\n",
            "\u001b[2K   \u001b[90m━━━━━━━━━━━━━━━━━━━━━━━━━━━━━━━━━━━━━━━━\u001b[0m \u001b[32m9.7/9.7 MB\u001b[0m \u001b[31m19.6 MB/s\u001b[0m eta \u001b[36m0:00:00\u001b[0m\n",
            "\u001b[?25hDownloading trio-0.28.0-py3-none-any.whl (486 kB)\n",
            "\u001b[2K   \u001b[90m━━━━━━━━━━━━━━━━━━━━━━━━━━━━━━━━━━━━━━━━\u001b[0m \u001b[32m486.3/486.3 kB\u001b[0m \u001b[31m16.5 MB/s\u001b[0m eta \u001b[36m0:00:00\u001b[0m\n",
            "\u001b[?25hDownloading trio_websocket-0.11.1-py3-none-any.whl (17 kB)\n",
            "Downloading wsproto-1.2.0-py3-none-any.whl (24 kB)\n",
            "Downloading outcome-1.3.0.post0-py2.py3-none-any.whl (10 kB)\n",
            "Downloading sortedcontainers-2.4.0-py2.py3-none-any.whl (29 kB)\n",
            "Installing collected packages: sortedcontainers, wsproto, outcome, trio, trio-websocket, selenium\n",
            "Successfully installed outcome-1.3.0.post0 selenium-4.27.1 sortedcontainers-2.4.0 trio-0.28.0 trio-websocket-0.11.1 wsproto-1.2.0\n"
          ]
        }
      ]
    },
    {
      "cell_type": "code",
      "execution_count": null,
      "metadata": {
        "id": "kgQjA8ISnPZC"
      },
      "outputs": [],
      "source": [
        "import requests\n",
        "import numpy as np\n",
        "import pandas as pd\n",
        "from bs4 import BeautifulSoup\n",
        "from selenium import webdriver\n",
        "from selenium.webdriver import Chrome\n",
        "from selenium.webdriver.common.by import By\n",
        "from selenium.webdriver.support.ui import WebDriverWait\n",
        "from selenium.webdriver.support import expected_conditions as EC"
      ]
    },
    {
      "cell_type": "code",
      "execution_count": null,
      "metadata": {
        "id": "6WclnvMEnPZG",
        "colab": {
          "base_uri": "https://localhost:8080/",
          "height": 673
        },
        "outputId": "4a17bde4-9067-4944-ce3e-8123acba6ed3"
      },
      "outputs": [
        {
          "output_type": "error",
          "ename": "SessionNotCreatedException",
          "evalue": "Message: session not created: Chrome failed to start: exited normally.\n  (session not created: DevToolsActivePort file doesn't exist)\n  (The process started from chrome location /root/.cache/selenium/chrome/linux64/131.0.6778.264/chrome is no longer running, so ChromeDriver is assuming that Chrome has crashed.)\nStacktrace:\n#0 0x58f2ad20b1fa <unknown>\n#1 0x58f2acd1b810 <unknown>\n#2 0x58f2acd52ed8 <unknown>\n#3 0x58f2acd4ea36 <unknown>\n#4 0x58f2acd9a816 <unknown>\n#5 0x58f2acd99e66 <unknown>\n#6 0x58f2acd8e323 <unknown>\n#7 0x58f2acd5cde0 <unknown>\n#8 0x58f2acd5ddbe <unknown>\n#9 0x58f2ad1d712b <unknown>\n#10 0x58f2ad1db0c7 <unknown>\n#11 0x58f2ad1c46cc <unknown>\n#12 0x58f2ad1dbc47 <unknown>\n#13 0x58f2ad1a967f <unknown>\n#14 0x58f2ad1fa288 <unknown>\n#15 0x58f2ad1fa450 <unknown>\n#16 0x58f2ad20a076 <unknown>\n#17 0x791d375bbac3 <unknown>\n",
          "traceback": [
            "\u001b[0;31m---------------------------------------------------------------------------\u001b[0m",
            "\u001b[0;31mSessionNotCreatedException\u001b[0m                Traceback (most recent call last)",
            "\u001b[0;32m<ipython-input-3-484fdf92c3ed>\u001b[0m in \u001b[0;36m<cell line: 6>\u001b[0;34m()\u001b[0m\n\u001b[1;32m      4\u001b[0m \u001b[0moptions\u001b[0m \u001b[0;34m=\u001b[0m \u001b[0mwebdriver\u001b[0m\u001b[0;34m.\u001b[0m\u001b[0mChromeOptions\u001b[0m\u001b[0;34m(\u001b[0m\u001b[0;34m)\u001b[0m\u001b[0;34m\u001b[0m\u001b[0;34m\u001b[0m\u001b[0m\n\u001b[1;32m      5\u001b[0m \u001b[0moptions\u001b[0m\u001b[0;34m.\u001b[0m\u001b[0madd_argument\u001b[0m\u001b[0;34m(\u001b[0m\u001b[0;34m\"--start-maximized\"\u001b[0m\u001b[0;34m)\u001b[0m\u001b[0;34m\u001b[0m\u001b[0;34m\u001b[0m\u001b[0m\n\u001b[0;32m----> 6\u001b[0;31m \u001b[0mdriver\u001b[0m \u001b[0;34m=\u001b[0m \u001b[0mwebdriver\u001b[0m\u001b[0;34m.\u001b[0m\u001b[0mChrome\u001b[0m\u001b[0;34m(\u001b[0m\u001b[0moptions\u001b[0m\u001b[0;34m=\u001b[0m\u001b[0moptions\u001b[0m\u001b[0;34m)\u001b[0m\u001b[0;34m\u001b[0m\u001b[0;34m\u001b[0m\u001b[0m\n\u001b[0m\u001b[1;32m      7\u001b[0m \u001b[0mdriver\u001b[0m\u001b[0;34m.\u001b[0m\u001b[0mget\u001b[0m\u001b[0;34m(\u001b[0m\u001b[0murl\u001b[0m\u001b[0;34m)\u001b[0m\u001b[0;34m\u001b[0m\u001b[0;34m\u001b[0m\u001b[0m\n",
            "\u001b[0;32m/usr/local/lib/python3.10/dist-packages/selenium/webdriver/chrome/webdriver.py\u001b[0m in \u001b[0;36m__init__\u001b[0;34m(self, options, service, keep_alive)\u001b[0m\n\u001b[1;32m     43\u001b[0m         \u001b[0moptions\u001b[0m \u001b[0;34m=\u001b[0m \u001b[0moptions\u001b[0m \u001b[0;32mif\u001b[0m \u001b[0moptions\u001b[0m \u001b[0;32melse\u001b[0m \u001b[0mOptions\u001b[0m\u001b[0;34m(\u001b[0m\u001b[0;34m)\u001b[0m\u001b[0;34m\u001b[0m\u001b[0;34m\u001b[0m\u001b[0m\n\u001b[1;32m     44\u001b[0m \u001b[0;34m\u001b[0m\u001b[0m\n\u001b[0;32m---> 45\u001b[0;31m         super().__init__(\n\u001b[0m\u001b[1;32m     46\u001b[0m             \u001b[0mbrowser_name\u001b[0m\u001b[0;34m=\u001b[0m\u001b[0mDesiredCapabilities\u001b[0m\u001b[0;34m.\u001b[0m\u001b[0mCHROME\u001b[0m\u001b[0;34m[\u001b[0m\u001b[0;34m\"browserName\"\u001b[0m\u001b[0;34m]\u001b[0m\u001b[0;34m,\u001b[0m\u001b[0;34m\u001b[0m\u001b[0;34m\u001b[0m\u001b[0m\n\u001b[1;32m     47\u001b[0m             \u001b[0mvendor_prefix\u001b[0m\u001b[0;34m=\u001b[0m\u001b[0;34m\"goog\"\u001b[0m\u001b[0;34m,\u001b[0m\u001b[0;34m\u001b[0m\u001b[0;34m\u001b[0m\u001b[0m\n",
            "\u001b[0;32m/usr/local/lib/python3.10/dist-packages/selenium/webdriver/chromium/webdriver.py\u001b[0m in \u001b[0;36m__init__\u001b[0;34m(self, browser_name, vendor_prefix, options, service, keep_alive)\u001b[0m\n\u001b[1;32m     64\u001b[0m \u001b[0;34m\u001b[0m\u001b[0m\n\u001b[1;32m     65\u001b[0m         \u001b[0;32mtry\u001b[0m\u001b[0;34m:\u001b[0m\u001b[0;34m\u001b[0m\u001b[0;34m\u001b[0m\u001b[0m\n\u001b[0;32m---> 66\u001b[0;31m             \u001b[0msuper\u001b[0m\u001b[0;34m(\u001b[0m\u001b[0;34m)\u001b[0m\u001b[0;34m.\u001b[0m\u001b[0m__init__\u001b[0m\u001b[0;34m(\u001b[0m\u001b[0mcommand_executor\u001b[0m\u001b[0;34m=\u001b[0m\u001b[0mexecutor\u001b[0m\u001b[0;34m,\u001b[0m \u001b[0moptions\u001b[0m\u001b[0;34m=\u001b[0m\u001b[0moptions\u001b[0m\u001b[0;34m)\u001b[0m\u001b[0;34m\u001b[0m\u001b[0;34m\u001b[0m\u001b[0m\n\u001b[0m\u001b[1;32m     67\u001b[0m         \u001b[0;32mexcept\u001b[0m \u001b[0mException\u001b[0m\u001b[0;34m:\u001b[0m\u001b[0;34m\u001b[0m\u001b[0;34m\u001b[0m\u001b[0m\n\u001b[1;32m     68\u001b[0m             \u001b[0mself\u001b[0m\u001b[0;34m.\u001b[0m\u001b[0mquit\u001b[0m\u001b[0;34m(\u001b[0m\u001b[0;34m)\u001b[0m\u001b[0;34m\u001b[0m\u001b[0;34m\u001b[0m\u001b[0m\n",
            "\u001b[0;32m/usr/local/lib/python3.10/dist-packages/selenium/webdriver/remote/webdriver.py\u001b[0m in \u001b[0;36m__init__\u001b[0;34m(self, command_executor, keep_alive, file_detector, options, locator_converter, web_element_cls, client_config)\u001b[0m\n\u001b[1;32m    239\u001b[0m         \u001b[0mself\u001b[0m\u001b[0;34m.\u001b[0m\u001b[0m_authenticator_id\u001b[0m \u001b[0;34m=\u001b[0m \u001b[0;32mNone\u001b[0m\u001b[0;34m\u001b[0m\u001b[0;34m\u001b[0m\u001b[0m\n\u001b[1;32m    240\u001b[0m         \u001b[0mself\u001b[0m\u001b[0;34m.\u001b[0m\u001b[0mstart_client\u001b[0m\u001b[0;34m(\u001b[0m\u001b[0;34m)\u001b[0m\u001b[0;34m\u001b[0m\u001b[0;34m\u001b[0m\u001b[0m\n\u001b[0;32m--> 241\u001b[0;31m         \u001b[0mself\u001b[0m\u001b[0;34m.\u001b[0m\u001b[0mstart_session\u001b[0m\u001b[0;34m(\u001b[0m\u001b[0mcapabilities\u001b[0m\u001b[0;34m)\u001b[0m\u001b[0;34m\u001b[0m\u001b[0;34m\u001b[0m\u001b[0m\n\u001b[0m\u001b[1;32m    242\u001b[0m         \u001b[0mself\u001b[0m\u001b[0;34m.\u001b[0m\u001b[0m_fedcm\u001b[0m \u001b[0;34m=\u001b[0m \u001b[0mFedCM\u001b[0m\u001b[0;34m(\u001b[0m\u001b[0mself\u001b[0m\u001b[0;34m)\u001b[0m\u001b[0;34m\u001b[0m\u001b[0;34m\u001b[0m\u001b[0m\n\u001b[1;32m    243\u001b[0m \u001b[0;34m\u001b[0m\u001b[0m\n",
            "\u001b[0;32m/usr/local/lib/python3.10/dist-packages/selenium/webdriver/remote/webdriver.py\u001b[0m in \u001b[0;36mstart_session\u001b[0;34m(self, capabilities)\u001b[0m\n\u001b[1;32m    327\u001b[0m \u001b[0;34m\u001b[0m\u001b[0m\n\u001b[1;32m    328\u001b[0m         \u001b[0mcaps\u001b[0m \u001b[0;34m=\u001b[0m \u001b[0m_create_caps\u001b[0m\u001b[0;34m(\u001b[0m\u001b[0mcapabilities\u001b[0m\u001b[0;34m)\u001b[0m\u001b[0;34m\u001b[0m\u001b[0;34m\u001b[0m\u001b[0m\n\u001b[0;32m--> 329\u001b[0;31m         \u001b[0mresponse\u001b[0m \u001b[0;34m=\u001b[0m \u001b[0mself\u001b[0m\u001b[0;34m.\u001b[0m\u001b[0mexecute\u001b[0m\u001b[0;34m(\u001b[0m\u001b[0mCommand\u001b[0m\u001b[0;34m.\u001b[0m\u001b[0mNEW_SESSION\u001b[0m\u001b[0;34m,\u001b[0m \u001b[0mcaps\u001b[0m\u001b[0;34m)\u001b[0m\u001b[0;34m[\u001b[0m\u001b[0;34m\"value\"\u001b[0m\u001b[0;34m]\u001b[0m\u001b[0;34m\u001b[0m\u001b[0;34m\u001b[0m\u001b[0m\n\u001b[0m\u001b[1;32m    330\u001b[0m         \u001b[0mself\u001b[0m\u001b[0;34m.\u001b[0m\u001b[0msession_id\u001b[0m \u001b[0;34m=\u001b[0m \u001b[0mresponse\u001b[0m\u001b[0;34m.\u001b[0m\u001b[0mget\u001b[0m\u001b[0;34m(\u001b[0m\u001b[0;34m\"sessionId\"\u001b[0m\u001b[0;34m)\u001b[0m\u001b[0;34m\u001b[0m\u001b[0;34m\u001b[0m\u001b[0m\n\u001b[1;32m    331\u001b[0m         \u001b[0mself\u001b[0m\u001b[0;34m.\u001b[0m\u001b[0mcaps\u001b[0m \u001b[0;34m=\u001b[0m \u001b[0mresponse\u001b[0m\u001b[0;34m.\u001b[0m\u001b[0mget\u001b[0m\u001b[0;34m(\u001b[0m\u001b[0;34m\"capabilities\"\u001b[0m\u001b[0;34m)\u001b[0m\u001b[0;34m\u001b[0m\u001b[0;34m\u001b[0m\u001b[0m\n",
            "\u001b[0;32m/usr/local/lib/python3.10/dist-packages/selenium/webdriver/remote/webdriver.py\u001b[0m in \u001b[0;36mexecute\u001b[0;34m(self, driver_command, params)\u001b[0m\n\u001b[1;32m    382\u001b[0m         \u001b[0mresponse\u001b[0m \u001b[0;34m=\u001b[0m \u001b[0mself\u001b[0m\u001b[0;34m.\u001b[0m\u001b[0mcommand_executor\u001b[0m\u001b[0;34m.\u001b[0m\u001b[0mexecute\u001b[0m\u001b[0;34m(\u001b[0m\u001b[0mdriver_command\u001b[0m\u001b[0;34m,\u001b[0m \u001b[0mparams\u001b[0m\u001b[0;34m)\u001b[0m\u001b[0;34m\u001b[0m\u001b[0;34m\u001b[0m\u001b[0m\n\u001b[1;32m    383\u001b[0m         \u001b[0;32mif\u001b[0m \u001b[0mresponse\u001b[0m\u001b[0;34m:\u001b[0m\u001b[0;34m\u001b[0m\u001b[0;34m\u001b[0m\u001b[0m\n\u001b[0;32m--> 384\u001b[0;31m             \u001b[0mself\u001b[0m\u001b[0;34m.\u001b[0m\u001b[0merror_handler\u001b[0m\u001b[0;34m.\u001b[0m\u001b[0mcheck_response\u001b[0m\u001b[0;34m(\u001b[0m\u001b[0mresponse\u001b[0m\u001b[0;34m)\u001b[0m\u001b[0;34m\u001b[0m\u001b[0;34m\u001b[0m\u001b[0m\n\u001b[0m\u001b[1;32m    385\u001b[0m             \u001b[0mresponse\u001b[0m\u001b[0;34m[\u001b[0m\u001b[0;34m\"value\"\u001b[0m\u001b[0;34m]\u001b[0m \u001b[0;34m=\u001b[0m \u001b[0mself\u001b[0m\u001b[0;34m.\u001b[0m\u001b[0m_unwrap_value\u001b[0m\u001b[0;34m(\u001b[0m\u001b[0mresponse\u001b[0m\u001b[0;34m.\u001b[0m\u001b[0mget\u001b[0m\u001b[0;34m(\u001b[0m\u001b[0;34m\"value\"\u001b[0m\u001b[0;34m,\u001b[0m \u001b[0;32mNone\u001b[0m\u001b[0;34m)\u001b[0m\u001b[0;34m)\u001b[0m\u001b[0;34m\u001b[0m\u001b[0;34m\u001b[0m\u001b[0m\n\u001b[1;32m    386\u001b[0m             \u001b[0;32mreturn\u001b[0m \u001b[0mresponse\u001b[0m\u001b[0;34m\u001b[0m\u001b[0;34m\u001b[0m\u001b[0m\n",
            "\u001b[0;32m/usr/local/lib/python3.10/dist-packages/selenium/webdriver/remote/errorhandler.py\u001b[0m in \u001b[0;36mcheck_response\u001b[0;34m(self, response)\u001b[0m\n\u001b[1;32m    230\u001b[0m                 \u001b[0malert_text\u001b[0m \u001b[0;34m=\u001b[0m \u001b[0mvalue\u001b[0m\u001b[0;34m[\u001b[0m\u001b[0;34m\"alert\"\u001b[0m\u001b[0;34m]\u001b[0m\u001b[0;34m.\u001b[0m\u001b[0mget\u001b[0m\u001b[0;34m(\u001b[0m\u001b[0;34m\"text\"\u001b[0m\u001b[0;34m)\u001b[0m\u001b[0;34m\u001b[0m\u001b[0;34m\u001b[0m\u001b[0m\n\u001b[1;32m    231\u001b[0m             \u001b[0;32mraise\u001b[0m \u001b[0mexception_class\u001b[0m\u001b[0;34m(\u001b[0m\u001b[0mmessage\u001b[0m\u001b[0;34m,\u001b[0m \u001b[0mscreen\u001b[0m\u001b[0;34m,\u001b[0m \u001b[0mstacktrace\u001b[0m\u001b[0;34m,\u001b[0m \u001b[0malert_text\u001b[0m\u001b[0;34m)\u001b[0m  \u001b[0;31m# type: ignore[call-arg]  # mypy is not smart enough here\u001b[0m\u001b[0;34m\u001b[0m\u001b[0;34m\u001b[0m\u001b[0m\n\u001b[0;32m--> 232\u001b[0;31m         \u001b[0;32mraise\u001b[0m \u001b[0mexception_class\u001b[0m\u001b[0;34m(\u001b[0m\u001b[0mmessage\u001b[0m\u001b[0;34m,\u001b[0m \u001b[0mscreen\u001b[0m\u001b[0;34m,\u001b[0m \u001b[0mstacktrace\u001b[0m\u001b[0;34m)\u001b[0m\u001b[0;34m\u001b[0m\u001b[0;34m\u001b[0m\u001b[0m\n\u001b[0m",
            "\u001b[0;31mSessionNotCreatedException\u001b[0m: Message: session not created: Chrome failed to start: exited normally.\n  (session not created: DevToolsActivePort file doesn't exist)\n  (The process started from chrome location /root/.cache/selenium/chrome/linux64/131.0.6778.264/chrome is no longer running, so ChromeDriver is assuming that Chrome has crashed.)\nStacktrace:\n#0 0x58f2ad20b1fa <unknown>\n#1 0x58f2acd1b810 <unknown>\n#2 0x58f2acd52ed8 <unknown>\n#3 0x58f2acd4ea36 <unknown>\n#4 0x58f2acd9a816 <unknown>\n#5 0x58f2acd99e66 <unknown>\n#6 0x58f2acd8e323 <unknown>\n#7 0x58f2acd5cde0 <unknown>\n#8 0x58f2acd5ddbe <unknown>\n#9 0x58f2ad1d712b <unknown>\n#10 0x58f2ad1db0c7 <unknown>\n#11 0x58f2ad1c46cc <unknown>\n#12 0x58f2ad1dbc47 <unknown>\n#13 0x58f2ad1a967f <unknown>\n#14 0x58f2ad1fa288 <unknown>\n#15 0x58f2ad1fa450 <unknown>\n#16 0x58f2ad20a076 <unknown>\n#17 0x791d375bbac3 <unknown>\n"
          ]
        }
      ],
      "source": [
        "#input google maps link\n",
        "url = \"https://www.google.com/maps/search/toko+sekitar+Coffee+House+Kahwa+/@-6.276316,106.6677348,11z/data=!4m2!2m1!6e5?entry=ttu&g_ep=EgoyMDI1MDEwOC4wIKXMDSoASAFQAw%3D%3D\"\n",
        "\n",
        "options = webdriver.ChromeOptions()\n",
        "options.add_argument(\"--start-maximized\")\n",
        "driver = webdriver.Chrome(options=options)\n",
        "driver.get(url)"
      ]
    },
    {
      "cell_type": "code",
      "execution_count": null,
      "metadata": {
        "id": "qS1n-18tnPZH",
        "outputId": "cde9b1c4-e24d-4504-dbc1-c26416d8f44a"
      },
      "outputs": [
        {
          "name": "stdout",
          "output_type": "stream",
          "text": [
            "Name: R. Jaya Furniture, Link: https://www.google.com/maps/place/R.+Jaya+Furniture/data=!4m7!3m6!1s0x2e69f307c35e1a33:0x3bc1efca688301ee!8m2!3d-6.2472664!4d106.8668645!16s%2Fg%2F1tp8fth2!19sChIJMxpewwfzaS4R7gGDaMrvwTs?authuser=0&hl=id&rclk=1\n",
            "Name: Aneka Karya, Link: https://www.google.com/maps/place/Aneka+Karya/data=!4m7!3m6!1s0x2e69f3090defdc37:0x7f816ff20c84bdb0!8m2!3d-6.2430433!4d106.868731!16s%2Fg%2F1ptygrcc5!19sChIJN9zvDQnzaS4RsL2EDPJvgX8?authuser=0&hl=id&rclk=1\n",
            "Name: Sumber Jaya Furniture, Link: https://www.google.com/maps/place/Sumber+Jaya+Furniture/data=!4m7!3m6!1s0x2e69f3090f92e09b:0xa5b66b249b2bc9c8!8m2!3d-6.243225!4d106.8687213!16s%2Fg%2F1tdj6jcg!19sChIJm-CSDwnzaS4RyMkrmyRrtqU?authuser=0&hl=id&rclk=1\n",
            "Name: Ethnic kom, Link: https://www.google.com/maps/place/Ethnic+kom/data=!4m7!3m6!1s0x2e69f30886517633:0x2eabaca73354800d!8m2!3d-6.2458061!4d106.8676229!16s%2Fg%2F1pt_9ws0n!19sChIJM3ZRhgjzaS4RDYBUM6esqy4?authuser=0&hl=id&rclk=1\n",
            "Name: Aneka Furniture & Interior Design, Link: https://www.google.com/maps/place/Aneka+Furniture+%26+Interior+Design/data=!4m7!3m6!1s0x2e69f3090e36f2d7:0x5acbe8557e3e5a7f!8m2!3d-6.243102!4d106.868668!16s%2Fg%2F1tj5b24x!19sChIJ1_I2DgnzaS4Rf1o-flXoy1o?authuser=0&hl=id&rclk=1\n",
            "Name: New Bintang Timur, Link: https://www.google.com/maps/place/New+Bintang+Timur/data=!4m7!3m6!1s0x2e69f30963b26dbd:0x3a1fa56744f85acc!8m2!3d-6.241557!4d106.8690928!16s%2Fg%2F1hf4tmqd5!19sChIJvW2yYwnzaS4RzFr4RGelHzo?authuser=0&hl=id&rclk=1\n",
            "Name: Jati Agung Furniture & Interior, Link: https://www.google.com/maps/place/Jati+Agung+Furniture+%26+Interior/data=!4m7!3m6!1s0x2e69f3096ce466f9:0xefa4fecdc9f88566!8m2!3d-6.2426188!4d106.8687514!16s%2Fg%2F1w2j4qg_!19sChIJ-WbkbAnzaS4RZoX4yc3-pO8?authuser=0&hl=id&rclk=1\n",
            "Name: Aneka Furniture Barokah, Link: https://www.google.com/maps/place/Aneka+Furniture+Barokah/data=!4m7!3m6!1s0x2e69f3c23a08df2d:0xbcd8202e7b875751!8m2!3d-6.2303382!4d106.8682585!16s%2Fg%2F11sj8nz1lp!19sChIJLd8IOsLzaS4RUVeHey4g2Lw?authuser=0&hl=id&rclk=1\n",
            "Name: Jati Baiduri Furniture, Link: https://www.google.com/maps/place/Jati+Baiduri+Furniture/data=!4m7!3m6!1s0x2e69f30b2577f85f:0x5d62615dbbb23cc9!8m2!3d-6.2371785!4d106.8679149!16s%2Fg%2F1pzqmxz8d!19sChIJX_h3JQvzaS4RyTyyu11hYl0?authuser=0&hl=id&rclk=1\n",
            "Name: Aneka Furniture. CV, Link: https://www.google.com/maps/place/Aneka+Furniture.+CV/data=!4m7!3m6!1s0x2e69f30a04699865:0x87e942f089eec9dd!8m2!3d-6.2410923!4d106.8655291!16s%2Fg%2F1pzv6l106!19sChIJZZhpBArzaS4R3cnuifBC6Yc?authuser=0&hl=id&rclk=1\n",
            "Name: Otista Mebel, Link: https://www.google.com/maps/place/Otista+Mebel/data=!4m7!3m6!1s0x2e69f30b2d275c2f:0x50c60f8d5521c276!8m2!3d-6.2363309!4d106.8685447!16s%2Fg%2F11bc7r_1k8!19sChIJL1wnLQvzaS4RdsIhVY0PxlA?authuser=0&hl=id&rclk=1\n",
            "Name: Sudarsono Furniture, Link: https://www.google.com/maps/place/Sudarsono+Furniture/data=!4m7!3m6!1s0x2e69f27d40824a47:0x4af7f7f180c9e307!8m2!3d-6.288546!4d106.8636051!16s%2Fg%2F11f40_3nnp!19sChIJR0qCQH3yaS4RB-PJgPH390o?authuser=0&hl=id&rclk=1\n",
            "Name: Eropa Mebel Toko, Link: https://www.google.com/maps/place/Eropa+Mebel+Toko/data=!4m7!3m6!1s0x2e69f3751f0125a5:0x948d159d1e6e33ee!8m2!3d-6.2283052!4d106.867552!16s%2Fg%2F1hc4b9hwy!19sChIJpSUBH3XzaS4R7jNuHp0VjZQ?authuser=0&hl=id&rclk=1\n",
            "Name: Toko Mebel Kresno, Link: https://www.google.com/maps/place/Toko+Mebel+Kresno/data=!4m7!3m6!1s0x2e69f25a2aeb7e55:0x9b82fda965656fa0!8m2!3d-6.2697337!4d106.8590867!16s%2Fg%2F1ptwsgxz3!19sChIJVX7rKlryaS4RoG9lZan9gps?authuser=0&hl=id&rclk=1\n",
            "Name: Rumah Ibu Ismail, Link: https://www.google.com/maps/place/Rumah+Ibu+Ismail/data=!4m7!3m6!1s0x2e69f3696450fdc7:0x8795421f6451de34!8m2!3d-6.2213609!4d106.8806978!16s%2Fg%2F11k4lqgn89!19sChIJx_1QZGnzaS4RNN5RZB9ClYc?authuser=0&hl=id&rclk=1\n",
            "Name: Cahaya Jati, Link: https://www.google.com/maps/place/Cahaya+Jati/data=!4m7!3m6!1s0x2e69f32ba3f19a61:0xcbe6217fc5ba4d78!8m2!3d-6.2518444!4d106.9088656!16s%2Fg%2F1th847cl!19sChIJYZrxoyvzaS4ReE26xX8h5ss?authuser=0&hl=id&rclk=1\n",
            "Name: Meubel Misno Udin, Link: https://www.google.com/maps/place/Meubel+Misno+Udin/data=!4m7!3m6!1s0x2e69f32f833633c1:0xc2ea8f20cb61e84e!8m2!3d-6.2478563!4d106.9009658!16s%2Fg%2F1pzqvlxwt!19sChIJwTM2gy_zaS4RTuhhyyCP6sI?authuser=0&hl=id&rclk=1\n",
            "Name: Sumber Murni Furniture, Link: https://www.google.com/maps/place/Sumber+Murni+Furniture/data=!4m7!3m6!1s0x2e69f3764179de2d:0xdea5ec9e141e4f2!8m2!3d-6.2292865!4d106.8660156!16s%2Fg%2F1tdhxg21!19sChIJLd55QXbzaS4R8uRB4cle6g0?authuser=0&hl=id&rclk=1\n",
            "Name: Mebel Utama Toko, Link: https://www.google.com/maps/place/Mebel+Utama+Toko/data=!4m7!3m6!1s0x2e69f36a76939ce9:0x68cca642c3a7a5c7!8m2!3d-6.2321819!4d106.8883937!16s%2Fg%2F1td22kbr!19sChIJ6ZyTdmrzaS4Rx6Wnw0KmzGg?authuser=0&hl=id&rclk=1\n",
            "Name: Toko Furnitur, Link: https://www.google.com/maps/place/Toko+Furnitur/data=!4m7!3m6!1s0x2e69f3776e27d46b:0xd3a407310eb51c07!8m2!3d-6.2269318!4d106.8700185!16s%2Fg%2F11jy3p2vmf!19sChIJa9QnbnfzaS4RBxy1DjEHpNM?authuser=0&hl=id&rclk=1\n",
            "Name: Furniture Indo Permai, Link: https://www.google.com/maps/place/Furniture+Indo+Permai/data=!4m7!3m6!1s0x2e69f29bd0160931:0xc525505d55f6e84f!8m2!3d-6.290443!4d106.88887!16s%2Fg%2F1tkfw_dl!19sChIJMQkW0JvyaS4RT-j2VV1QJcU?authuser=0&hl=id&rclk=1\n",
            "Name: RUMAH MEBEL, Link: https://www.google.com/maps/place/RUMAH+MEBEL/data=!4m7!3m6!1s0x2e69f36a33bf261d:0xe09ff9bec790489c!8m2!3d-6.2218886!4d106.8737684!16s%2Fg%2F11pvp1fs1z!19sChIJHSa_M2rzaS4RnEiQx775n-A?authuser=0&hl=id&rclk=1\n"
          ]
        }
      ],
      "source": [
        "reviews = []\n",
        "soup = BeautifulSoup(driver.page_source, \"html.parser\")\n",
        "elements = soup.findAll('a', class_=\"hfpxzc\")\n",
        "data = []\n",
        "for element in elements:\n",
        "    href = element.get(\"href\")\n",
        "    aria_label = element.get(\"aria-label\")\n",
        "    if href and aria_label:\n",
        "        data.append({\"name\": aria_label, \"link\": href})\n",
        "\n",
        "# Cetak hasilnya\n",
        "for item in data:\n",
        "    print(f\"Name: {item['name']}, Link: {item['link']}\")\n",
        "\n",
        "#Scroll Google Maps ampe bawah biar dapat data banyak\n",
        "#baru run code ini lagi"
      ]
    },
    {
      "cell_type": "code",
      "execution_count": null,
      "metadata": {
        "id": "1--d2mLfnPZJ",
        "outputId": "5170fa52-9325-4131-fe88-9e0d0887a805"
      },
      "outputs": [
        {
          "data": {
            "text/html": [
              "<div>\n",
              "<style scoped>\n",
              "    .dataframe tbody tr th:only-of-type {\n",
              "        vertical-align: middle;\n",
              "    }\n",
              "\n",
              "    .dataframe tbody tr th {\n",
              "        vertical-align: top;\n",
              "    }\n",
              "\n",
              "    .dataframe thead th {\n",
              "        text-align: right;\n",
              "    }\n",
              "</style>\n",
              "<table border=\"1\" class=\"dataframe\">\n",
              "  <thead>\n",
              "    <tr style=\"text-align: right;\">\n",
              "      <th></th>\n",
              "      <th>name</th>\n",
              "      <th>link</th>\n",
              "    </tr>\n",
              "  </thead>\n",
              "  <tbody>\n",
              "    <tr>\n",
              "      <th>count</th>\n",
              "      <td>22</td>\n",
              "      <td>22</td>\n",
              "    </tr>\n",
              "    <tr>\n",
              "      <th>unique</th>\n",
              "      <td>22</td>\n",
              "      <td>22</td>\n",
              "    </tr>\n",
              "    <tr>\n",
              "      <th>top</th>\n",
              "      <td>R. Jaya Furniture</td>\n",
              "      <td>https://www.google.com/maps/place/R.+Jaya+Furn...</td>\n",
              "    </tr>\n",
              "    <tr>\n",
              "      <th>freq</th>\n",
              "      <td>1</td>\n",
              "      <td>1</td>\n",
              "    </tr>\n",
              "  </tbody>\n",
              "</table>\n",
              "</div>"
            ],
            "text/plain": [
              "                     name                                               link\n",
              "count                  22                                                 22\n",
              "unique                 22                                                 22\n",
              "top     R. Jaya Furniture  https://www.google.com/maps/place/R.+Jaya+Furn...\n",
              "freq                    1                                                  1"
            ]
          },
          "execution_count": 6,
          "metadata": {},
          "output_type": "execute_result"
        }
      ],
      "source": [
        "df = pd.DataFrame(data)\n",
        "df.describe()"
      ]
    },
    {
      "cell_type": "markdown",
      "metadata": {
        "id": "78DDWFMVnPZJ"
      },
      "source": [
        "Buka Folder"
      ]
    },
    {
      "cell_type": "code",
      "execution_count": null,
      "metadata": {
        "id": "gnXHOCilnPZL",
        "outputId": "ea280435-90f9-443b-b7c9-235b2fd841a8"
      },
      "outputs": [
        {
          "name": "stdout",
          "output_type": "stream",
          "text": [
            "<class 'pandas.core.frame.DataFrame'>\n",
            "RangeIndex: 22 entries, 0 to 21\n",
            "Data columns (total 4 columns):\n",
            " #   Column     Non-Null Count  Dtype \n",
            "---  ------     --------------  ----- \n",
            " 0   name       22 non-null     object\n",
            " 1   link       22 non-null     object\n",
            " 2   Latitude   22 non-null     object\n",
            " 3   Longitude  22 non-null     object\n",
            "dtypes: object(4)\n",
            "memory usage: 836.0+ bytes\n"
          ]
        }
      ],
      "source": [
        "import pandas as pd\n",
        "import re\n",
        "\n",
        "def extract_lat_long(link):\n",
        "    try:\n",
        "        latitude = re.search(r\"3d(-?\\d+\\.\\d+)\", link).group(1)\n",
        "        longitude = re.search(r\"4d(-?\\d+\\.\\d+)\", link).group(1)\n",
        "        return latitude, longitude\n",
        "    except AttributeError:\n",
        "        return None, None\n",
        "\n",
        "# Ekstrak latitude dan longitude untuk setiap baris\n",
        "df[['Latitude', 'Longitude']] = df['link'].apply(lambda x: pd.Series(extract_lat_long(x)))\n",
        "\n",
        "#df.to_csv(\"google_maps_food.csv\", index=False)\n",
        "df.info()"
      ]
    },
    {
      "cell_type": "code",
      "execution_count": null,
      "metadata": {
        "id": "ypiKf6h8nPZM"
      },
      "outputs": [],
      "source": [
        "df['Latitude'] = df['Latitude'].str.replace(',', '.').astype(float)\n",
        "df['Longitude'] = df['Longitude'].str.replace(',', '.').astype(float)"
      ]
    },
    {
      "cell_type": "code",
      "execution_count": null,
      "metadata": {
        "id": "6GxRgI1snPZN"
      },
      "outputs": [],
      "source": [
        "import math\n",
        "\n",
        "df['Latitude'] = pd.to_numeric(df['Latitude'], errors='coerce')\n",
        "df['Longitude'] = pd.to_numeric(df['Longitude'], errors='coerce')\n",
        "# Fungsi Haversine untuk menghitung jarak\n",
        "def haversine(lat1, lon1, lat2, lon2):\n",
        "    R = 6371  # Radius bumi dalam kilometer\n",
        "    lat1_rad = math.radians(lat1)\n",
        "    lon1_rad = math.radians(lon1)\n",
        "    lat2_rad = math.radians(lat2)\n",
        "    lon2_rad = math.radians(lon2)\n",
        "\n",
        "    delta_lat = lat2_rad - lat1_rad\n",
        "    delta_lon = lon2_rad - lon1_rad\n",
        "\n",
        "    a = math.sin(delta_lat / 2.0)**2 + math.cos(lat1_rad) * math.cos(lat2_rad) * math.sin(delta_lon / 2.0)**2\n",
        "    c = 2 * math.asin(math.sqrt(a))\n",
        "    distance = R * c\n",
        "    return distance\n",
        "\n",
        "# Koordinat RS PON (Titik 1)\n",
        "lat_rspon = -6.2460022\n",
        "lon_rspon = 106.8704903\n",
        "\n",
        "# Menambahkan kolom 'Jarak dari RS PON' dengan looping\n",
        "jarak_list = []\n",
        "for index, row in df.iterrows():\n",
        "    lat2 = row['Latitude']\n",
        "    lon2 = row['Longitude']\n",
        "    jarak = haversine(lat_rspon, lon_rspon, lat2, lon2)\n",
        "    jarak_list.append(jarak)\n",
        "\n",
        "# Menambahkan hasil jarak ke dalam DataFrame\n",
        "df['Jarak dari RS PON (km)'] = jarak_list"
      ]
    },
    {
      "cell_type": "code",
      "execution_count": null,
      "metadata": {
        "id": "871iLTcQnPZN"
      },
      "outputs": [],
      "source": [
        "#Save file format csv\n",
        "df.to_csv(\"google_maps_full.csv\", index=False)"
      ]
    }
  ],
  "metadata": {
    "kernelspec": {
      "display_name": "Python 3",
      "language": "python",
      "name": "python3"
    },
    "language_info": {
      "codemirror_mode": {
        "name": "ipython",
        "version": 3
      },
      "file_extension": ".py",
      "mimetype": "text/x-python",
      "name": "python",
      "nbconvert_exporter": "python",
      "pygments_lexer": "ipython3",
      "version": "3.11.9"
    },
    "colab": {
      "provenance": []
    }
  },
  "nbformat": 4,
  "nbformat_minor": 0
}